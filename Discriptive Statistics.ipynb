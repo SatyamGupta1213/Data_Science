{
 "cells": [
  {
   "cell_type": "markdown",
   "id": "60f7893c",
   "metadata": {},
   "source": [
    "<h1 style=\"color:yellow;background-color:green;font-size:250%;border:2px solid black;text-align:center;\"> Descriptive Statistics</h1>"
   ]
  },
  {
   "cell_type": "markdown",
   "id": "841bbc6a",
   "metadata": {},
   "source": [
    "%matplotlib inline"
   ]
  },
  {
   "cell_type": "code",
   "execution_count": 1,
   "id": "87e54b33",
   "metadata": {},
   "outputs": [],
   "source": [
    "#Import Libraries\n",
    "import numpy as np\n",
    "import pandas  as pd\n",
    "import matplotlib.pyplot as plt\n",
    "import seaborn as sns\n",
    "\n",
    "\n",
    "# Import Warnings\n",
    "import warnings\n",
    "warnings.filterwarnings('ignore')\n",
    "# iPython\n",
    "# from IPython.core.interactiveshell import interactiveshell\n",
    "#Interactiveshell.ast_node_interactivity='all'"
   ]
  },
  {
   "cell_type": "code",
   "execution_count": 2,
   "id": "e13173d1",
   "metadata": {},
   "outputs": [
    {
     "name": "stdout",
     "output_type": "stream",
     "text": [
      "['anagrams', 'anscombe', 'attention', 'brain_networks', 'car_crashes', 'diamonds', 'dots', 'dowjones', 'exercise', 'flights', 'fmri', 'geyser', 'glue', 'healthexp', 'iris', 'mpg', 'penguins', 'planets', 'seaice', 'taxis', 'tips', 'titanic']\n"
     ]
    }
   ],
   "source": [
    "# Available Seaborn datasets\n",
    "print(sns.get_dataset_names())"
   ]
  },
  {
   "cell_type": "code",
   "execution_count": 3,
   "id": "3ab1d97b",
   "metadata": {},
   "outputs": [
    {
     "data": {
      "text/html": [
       "<div>\n",
       "<style scoped>\n",
       "    .dataframe tbody tr th:only-of-type {\n",
       "        vertical-align: middle;\n",
       "    }\n",
       "\n",
       "    .dataframe tbody tr th {\n",
       "        vertical-align: top;\n",
       "    }\n",
       "\n",
       "    .dataframe thead th {\n",
       "        text-align: right;\n",
       "    }\n",
       "</style>\n",
       "<table border=\"1\" class=\"dataframe\">\n",
       "  <thead>\n",
       "    <tr style=\"text-align: right;\">\n",
       "      <th></th>\n",
       "      <th>carat</th>\n",
       "      <th>cut</th>\n",
       "      <th>color</th>\n",
       "      <th>clarity</th>\n",
       "      <th>depth</th>\n",
       "      <th>table</th>\n",
       "      <th>price</th>\n",
       "      <th>x</th>\n",
       "      <th>y</th>\n",
       "      <th>z</th>\n",
       "    </tr>\n",
       "  </thead>\n",
       "  <tbody>\n",
       "    <tr>\n",
       "      <th>0</th>\n",
       "      <td>0.23</td>\n",
       "      <td>Ideal</td>\n",
       "      <td>E</td>\n",
       "      <td>SI2</td>\n",
       "      <td>61.5</td>\n",
       "      <td>55.0</td>\n",
       "      <td>326</td>\n",
       "      <td>3.95</td>\n",
       "      <td>3.98</td>\n",
       "      <td>2.43</td>\n",
       "    </tr>\n",
       "    <tr>\n",
       "      <th>1</th>\n",
       "      <td>0.21</td>\n",
       "      <td>Premium</td>\n",
       "      <td>E</td>\n",
       "      <td>SI1</td>\n",
       "      <td>59.8</td>\n",
       "      <td>61.0</td>\n",
       "      <td>326</td>\n",
       "      <td>3.89</td>\n",
       "      <td>3.84</td>\n",
       "      <td>2.31</td>\n",
       "    </tr>\n",
       "    <tr>\n",
       "      <th>2</th>\n",
       "      <td>0.23</td>\n",
       "      <td>Good</td>\n",
       "      <td>E</td>\n",
       "      <td>VS1</td>\n",
       "      <td>56.9</td>\n",
       "      <td>65.0</td>\n",
       "      <td>327</td>\n",
       "      <td>4.05</td>\n",
       "      <td>4.07</td>\n",
       "      <td>2.31</td>\n",
       "    </tr>\n",
       "    <tr>\n",
       "      <th>3</th>\n",
       "      <td>0.29</td>\n",
       "      <td>Premium</td>\n",
       "      <td>I</td>\n",
       "      <td>VS2</td>\n",
       "      <td>62.4</td>\n",
       "      <td>58.0</td>\n",
       "      <td>334</td>\n",
       "      <td>4.20</td>\n",
       "      <td>4.23</td>\n",
       "      <td>2.63</td>\n",
       "    </tr>\n",
       "    <tr>\n",
       "      <th>4</th>\n",
       "      <td>0.31</td>\n",
       "      <td>Good</td>\n",
       "      <td>J</td>\n",
       "      <td>SI2</td>\n",
       "      <td>63.3</td>\n",
       "      <td>58.0</td>\n",
       "      <td>335</td>\n",
       "      <td>4.34</td>\n",
       "      <td>4.35</td>\n",
       "      <td>2.75</td>\n",
       "    </tr>\n",
       "  </tbody>\n",
       "</table>\n",
       "</div>"
      ],
      "text/plain": [
       "   carat      cut color clarity  depth  table  price     x     y     z\n",
       "0   0.23    Ideal     E     SI2   61.5   55.0    326  3.95  3.98  2.43\n",
       "1   0.21  Premium     E     SI1   59.8   61.0    326  3.89  3.84  2.31\n",
       "2   0.23     Good     E     VS1   56.9   65.0    327  4.05  4.07  2.31\n",
       "3   0.29  Premium     I     VS2   62.4   58.0    334  4.20  4.23  2.63\n",
       "4   0.31     Good     J     SI2   63.3   58.0    335  4.34  4.35  2.75"
      ]
     },
     "execution_count": 3,
     "metadata": {},
     "output_type": "execute_result"
    }
   ],
   "source": [
    "# Load Diamond Dataset\n",
    "diamonds = sns.load_dataset('diamonds')\n",
    "diamonds.head()"
   ]
  },
  {
   "cell_type": "code",
   "execution_count": 4,
   "id": "0236d9a9",
   "metadata": {},
   "outputs": [
    {
     "data": {
      "text/plain": [
       "carat       float64\n",
       "cut        category\n",
       "color      category\n",
       "clarity    category\n",
       "depth       float64\n",
       "table       float64\n",
       "price         int64\n",
       "x           float64\n",
       "y           float64\n",
       "z           float64\n",
       "dtype: object"
      ]
     },
     "execution_count": 4,
     "metadata": {},
     "output_type": "execute_result"
    }
   ],
   "source": [
    "diamonds.dtypes"
   ]
  },
  {
   "cell_type": "code",
   "execution_count": 5,
   "id": "f60a85df",
   "metadata": {},
   "outputs": [
    {
     "name": "stdout",
     "output_type": "stream",
     "text": [
      "<class 'pandas.core.frame.DataFrame'>\n",
      "RangeIndex: 53940 entries, 0 to 53939\n",
      "Data columns (total 10 columns):\n",
      " #   Column   Non-Null Count  Dtype   \n",
      "---  ------   --------------  -----   \n",
      " 0   carat    53940 non-null  float64 \n",
      " 1   cut      53940 non-null  category\n",
      " 2   color    53940 non-null  category\n",
      " 3   clarity  53940 non-null  category\n",
      " 4   depth    53940 non-null  float64 \n",
      " 5   table    53940 non-null  float64 \n",
      " 6   price    53940 non-null  int64   \n",
      " 7   x        53940 non-null  float64 \n",
      " 8   y        53940 non-null  float64 \n",
      " 9   z        53940 non-null  float64 \n",
      "dtypes: category(3), float64(6), int64(1)\n",
      "memory usage: 3.0 MB\n"
     ]
    }
   ],
   "source": [
    "#Info\n",
    "diamonds.info()"
   ]
  },
  {
   "cell_type": "code",
   "execution_count": 6,
   "id": "875a1aa7",
   "metadata": {},
   "outputs": [
    {
     "data": {
      "text/html": [
       "<div>\n",
       "<style scoped>\n",
       "    .dataframe tbody tr th:only-of-type {\n",
       "        vertical-align: middle;\n",
       "    }\n",
       "\n",
       "    .dataframe tbody tr th {\n",
       "        vertical-align: top;\n",
       "    }\n",
       "\n",
       "    .dataframe thead th {\n",
       "        text-align: right;\n",
       "    }\n",
       "</style>\n",
       "<table border=\"1\" class=\"dataframe\">\n",
       "  <thead>\n",
       "    <tr style=\"text-align: right;\">\n",
       "      <th></th>\n",
       "      <th>carat</th>\n",
       "      <th>depth</th>\n",
       "      <th>table</th>\n",
       "      <th>price</th>\n",
       "      <th>x</th>\n",
       "      <th>y</th>\n",
       "      <th>z</th>\n",
       "    </tr>\n",
       "  </thead>\n",
       "  <tbody>\n",
       "    <tr>\n",
       "      <th>count</th>\n",
       "      <td>53940.000000</td>\n",
       "      <td>53940.000000</td>\n",
       "      <td>53940.000000</td>\n",
       "      <td>53940.000000</td>\n",
       "      <td>53940.000000</td>\n",
       "      <td>53940.000000</td>\n",
       "      <td>53940.000000</td>\n",
       "    </tr>\n",
       "    <tr>\n",
       "      <th>mean</th>\n",
       "      <td>0.797940</td>\n",
       "      <td>61.749405</td>\n",
       "      <td>57.457184</td>\n",
       "      <td>3932.799722</td>\n",
       "      <td>5.731157</td>\n",
       "      <td>5.734526</td>\n",
       "      <td>3.538734</td>\n",
       "    </tr>\n",
       "    <tr>\n",
       "      <th>std</th>\n",
       "      <td>0.474011</td>\n",
       "      <td>1.432621</td>\n",
       "      <td>2.234491</td>\n",
       "      <td>3989.439738</td>\n",
       "      <td>1.121761</td>\n",
       "      <td>1.142135</td>\n",
       "      <td>0.705699</td>\n",
       "    </tr>\n",
       "    <tr>\n",
       "      <th>min</th>\n",
       "      <td>0.200000</td>\n",
       "      <td>43.000000</td>\n",
       "      <td>43.000000</td>\n",
       "      <td>326.000000</td>\n",
       "      <td>0.000000</td>\n",
       "      <td>0.000000</td>\n",
       "      <td>0.000000</td>\n",
       "    </tr>\n",
       "    <tr>\n",
       "      <th>25%</th>\n",
       "      <td>0.400000</td>\n",
       "      <td>61.000000</td>\n",
       "      <td>56.000000</td>\n",
       "      <td>950.000000</td>\n",
       "      <td>4.710000</td>\n",
       "      <td>4.720000</td>\n",
       "      <td>2.910000</td>\n",
       "    </tr>\n",
       "    <tr>\n",
       "      <th>50%</th>\n",
       "      <td>0.700000</td>\n",
       "      <td>61.800000</td>\n",
       "      <td>57.000000</td>\n",
       "      <td>2401.000000</td>\n",
       "      <td>5.700000</td>\n",
       "      <td>5.710000</td>\n",
       "      <td>3.530000</td>\n",
       "    </tr>\n",
       "    <tr>\n",
       "      <th>75%</th>\n",
       "      <td>1.040000</td>\n",
       "      <td>62.500000</td>\n",
       "      <td>59.000000</td>\n",
       "      <td>5324.250000</td>\n",
       "      <td>6.540000</td>\n",
       "      <td>6.540000</td>\n",
       "      <td>4.040000</td>\n",
       "    </tr>\n",
       "    <tr>\n",
       "      <th>max</th>\n",
       "      <td>5.010000</td>\n",
       "      <td>79.000000</td>\n",
       "      <td>95.000000</td>\n",
       "      <td>18823.000000</td>\n",
       "      <td>10.740000</td>\n",
       "      <td>58.900000</td>\n",
       "      <td>31.800000</td>\n",
       "    </tr>\n",
       "  </tbody>\n",
       "</table>\n",
       "</div>"
      ],
      "text/plain": [
       "              carat         depth         table         price             x  \\\n",
       "count  53940.000000  53940.000000  53940.000000  53940.000000  53940.000000   \n",
       "mean       0.797940     61.749405     57.457184   3932.799722      5.731157   \n",
       "std        0.474011      1.432621      2.234491   3989.439738      1.121761   \n",
       "min        0.200000     43.000000     43.000000    326.000000      0.000000   \n",
       "25%        0.400000     61.000000     56.000000    950.000000      4.710000   \n",
       "50%        0.700000     61.800000     57.000000   2401.000000      5.700000   \n",
       "75%        1.040000     62.500000     59.000000   5324.250000      6.540000   \n",
       "max        5.010000     79.000000     95.000000  18823.000000     10.740000   \n",
       "\n",
       "                  y             z  \n",
       "count  53940.000000  53940.000000  \n",
       "mean       5.734526      3.538734  \n",
       "std        1.142135      0.705699  \n",
       "min        0.000000      0.000000  \n",
       "25%        4.720000      2.910000  \n",
       "50%        5.710000      3.530000  \n",
       "75%        6.540000      4.040000  \n",
       "max       58.900000     31.800000  "
      ]
     },
     "execution_count": 6,
     "metadata": {},
     "output_type": "execute_result"
    }
   ],
   "source": [
    "# Descriptive Statistics\n",
    "diamonds.describe()"
   ]
  },
  {
   "cell_type": "code",
   "execution_count": 7,
   "id": "c6f08b36",
   "metadata": {},
   "outputs": [],
   "source": [
    "# Separating X,Y\n",
    "Y=diamonds.price\n",
    "X=diamonds.drop('price',axis=1)"
   ]
  },
  {
   "cell_type": "code",
   "execution_count": 8,
   "id": "24672a27",
   "metadata": {},
   "outputs": [
    {
     "data": {
      "image/png": "[encoded data removed]",
      "text/plain": [
       "<Figure size 1080x1080 with 1 Axes>"
      ]
     },
     "metadata": {
      "needs_background": "light"
     },
     "output_type": "display_data"
    }
   ],
   "source": [
    "# visualizing outlier boxplot\n",
    "X.boxplot(figsize=(15,15))\n",
    "plt.show()"
   ]
  },
  {
   "cell_type": "markdown",
   "id": "aaf6ecd4",
   "metadata": {},
   "source": [
    "<h1 style=\"color:yellow;background-color:green;font-size:250%;border:2px solid black;text-align:center;\"> Measure of Central Tendency </h1>\n",
    "\n",
    "<h2 style=\"color:Indigo;\">1.Mean</h2>\n",
    "<h2 style=\"color:Indigo;\">2.Median</h2>\n",
    "<h2 style=\"color:Indigo;\">3.Mode</h2>"
   ]
  },
  {
   "cell_type": "code",
   "execution_count": 9,
   "id": "3c3151bf",
   "metadata": {},
   "outputs": [
    {
     "data": {
      "text/html": [
       "<div>\n",
       "<style scoped>\n",
       "    .dataframe tbody tr th:only-of-type {\n",
       "        vertical-align: middle;\n",
       "    }\n",
       "\n",
       "    .dataframe tbody tr th {\n",
       "        vertical-align: top;\n",
       "    }\n",
       "\n",
       "    .dataframe thead th {\n",
       "        text-align: right;\n",
       "    }\n",
       "</style>\n",
       "<table border=\"1\" class=\"dataframe\">\n",
       "  <thead>\n",
       "    <tr style=\"text-align: right;\">\n",
       "      <th></th>\n",
       "      <th>carat</th>\n",
       "      <th>cut</th>\n",
       "      <th>color</th>\n",
       "      <th>clarity</th>\n",
       "      <th>depth</th>\n",
       "      <th>table</th>\n",
       "      <th>x</th>\n",
       "      <th>y</th>\n",
       "      <th>z</th>\n",
       "    </tr>\n",
       "  </thead>\n",
       "  <tbody>\n",
       "    <tr>\n",
       "      <th>0</th>\n",
       "      <td>0.3</td>\n",
       "      <td>Ideal</td>\n",
       "      <td>G</td>\n",
       "      <td>SI1</td>\n",
       "      <td>62.0</td>\n",
       "      <td>56.0</td>\n",
       "      <td>4.37</td>\n",
       "      <td>4.34</td>\n",
       "      <td>2.7</td>\n",
       "    </tr>\n",
       "  </tbody>\n",
       "</table>\n",
       "</div>"
      ],
      "text/plain": [
       "   carat    cut color clarity  depth  table     x     y    z\n",
       "0    0.3  Ideal     G     SI1   62.0   56.0  4.37  4.34  2.7"
      ]
     },
     "execution_count": 9,
     "metadata": {},
     "output_type": "execute_result"
    }
   ],
   "source": [
    "X.mode()"
   ]
  },
  {
   "cell_type": "code",
   "execution_count": 10,
   "id": "bf88bce0",
   "metadata": {},
   "outputs": [
    {
     "ename": "AttributeError",
     "evalue": "'float' object has no attribute 'plot'",
     "output_type": "error",
     "traceback": [
      "\u001b[1;31m---------------------------------------------------------------------------\u001b[0m",
      "\u001b[1;31mAttributeError\u001b[0m                            Traceback (most recent call last)",
      "Input \u001b[1;32mIn [10]\u001b[0m, in \u001b[0;36m<cell line: 3>\u001b[1;34m()\u001b[0m\n\u001b[0;32m      1\u001b[0m \u001b[38;5;66;03m# Median carat\u001b[39;00m\n\u001b[0;32m      2\u001b[0m diamonds[\u001b[38;5;124m'\u001b[39m\u001b[38;5;124mcarat\u001b[39m\u001b[38;5;124m'\u001b[39m]\u001b[38;5;241m.\u001b[39mmedian()\n\u001b[1;32m----> 3\u001b[0m \u001b[43mdiamonds\u001b[49m\u001b[43m[\u001b[49m\u001b[38;5;124;43m'\u001b[39;49m\u001b[38;5;124;43mcarat\u001b[39;49m\u001b[38;5;124;43m'\u001b[39;49m\u001b[43m]\u001b[49m\u001b[38;5;241;43m.\u001b[39;49m\u001b[43mmedian\u001b[49m\u001b[43m(\u001b[49m\u001b[43m)\u001b[49m\u001b[38;5;241;43m.\u001b[39;49m\u001b[43mplot\u001b[49m(kind\u001b[38;5;241m=\u001b[39m\u001b[38;5;124m'\u001b[39m\u001b[38;5;124mbar\u001b[39m\u001b[38;5;124m'\u001b[39m)\n",
      "\u001b[1;31mAttributeError\u001b[0m: 'float' object has no attribute 'plot'"
     ]
    }
   ],
   "source": [
    "# Median carat\n",
    "diamonds['carat'].median()\n",
    "diamonds['carat'].median().plot(kind='bar')\n"
   ]
  },
  {
   "cell_type": "code",
   "execution_count": null,
   "id": "eff2d0de",
   "metadata": {},
   "outputs": [],
   "source": [
    "# Mode\n",
    "diamonds.mode()"
   ]
  },
  {
   "cell_type": "code",
   "execution_count": null,
   "id": "8003cc42",
   "metadata": {},
   "outputs": [],
   "source": [
    "# InteractiveShell.ast_node_interactivity='none'\n",
    "c=1\n",
    "plt.figure(figsize=(20,20))\n",
    "for i in diamonds.columns:\n",
    "    if diamonds[i].dtype=='category':\n",
    "         #diamonds[i].mode()\n",
    "        plt.subplot(3,3,c,label=i)\n",
    "        diamonds[i].value_counts().plot(kind='bar')\n",
    "        plt.legend()\n",
    "        plt.tight_layout()\n",
    "        c+=1\n",
    "plt.show()         #plt.subplots()"
   ]
  },
  {
   "cell_type": "code",
   "execution_count": null,
   "id": "fe709f6f",
   "metadata": {},
   "outputs": [],
   "source": [
    "# Mean carat\n",
    "cut=X.groupby('cut')\n",
    "cut.mean()\n",
    "cut.mean().plot(kind='bar')\n",
    "plt.show()"
   ]
  },
  {
   "cell_type": "code",
   "execution_count": null,
   "id": "09af6ea8",
   "metadata": {},
   "outputs": [],
   "source": [
    "# Analyse Mean and median for color and Clarity\n",
    "# Mean carat\n",
    "cut=X.groupby('color')\n",
    "cut.mean()\n",
    "cut.mean().plot(kind='bar')\n",
    "plt.show()"
   ]
  },
  {
   "cell_type": "code",
   "execution_count": null,
   "id": "a2ad5b63",
   "metadata": {},
   "outputs": [],
   "source": [
    "# Mean\n",
    "cut=X.groupby('cut')\n",
    "cut.mean()\n",
    "cut.mean().plot(kind='bar')\n",
    "plt.show()"
   ]
  },
  {
   "cell_type": "code",
   "execution_count": null,
   "id": "1210a665",
   "metadata": {},
   "outputs": [],
   "source": [
    "X.columns"
   ]
  },
  {
   "cell_type": "code",
   "execution_count": null,
   "id": "14d21d13",
   "metadata": {},
   "outputs": [],
   "source": [
    "X.mode()"
   ]
  },
  {
   "cell_type": "markdown",
   "id": "96a55965",
   "metadata": {},
   "source": [
    "<h1 style=\"color:yellow;background-color:green;font-size:250%;border:2px solid black;text-align:center;\"> Measures of Dispersion</h1>\n",
    "\n",
    "<h2 style=\"color:Indigo;\">1.Range</h2>\n",
    "<h2 style=\"color:Indigo;\">2.Variance</h2>\n",
    "<h2 style=\"color:Indigo;\">3.Standard Deviation</h2>"
   ]
  },
  {
   "cell_type": "markdown",
   "id": "9a7c94bc",
   "metadata": {},
   "source": [
    "<h2 style=\"color:Indigo;\">1.Range</h2>"
   ]
  },
  {
   "cell_type": "code",
   "execution_count": null,
   "id": "7b070d13",
   "metadata": {},
   "outputs": [],
   "source": [
    "# Range\n",
    "diamonds.max()-diamonds.min()"
   ]
  },
  {
   "cell_type": "code",
   "execution_count": null,
   "id": "5d689e3c",
   "metadata": {},
   "outputs": [],
   "source": [
    "# Range\n",
    "(X.max()-X.min()).plot(kind='bar',color='green')"
   ]
  },
  {
   "cell_type": "code",
   "execution_count": null,
   "id": "31fb04c9",
   "metadata": {},
   "outputs": [],
   "source": [
    "print('price:',Y.max()-Y.min())"
   ]
  },
  {
   "cell_type": "markdown",
   "id": "ab9dfd57",
   "metadata": {},
   "source": [
    "<h2 style=\"color:Indigo;\">2.Variance</h2>\n",
    "\n",
    "# <p style='text-align:center'>  $ \\sigma^2 = \\frac{\\displaystyle\\sum_{i=1}^{n}(x_i - \\bar{x})^2} {n} $\n",
    "</p>\n",
    "Variance is a measure of dispersion that takes into account the spread of all data points in a data set.\n",
    "\n",
    "In simple words, the variance is a measure of how far a set of data are dispersed out from their mean or average value. It is denoted as \n",
    "σ\n",
    "2\n",
    ".\n",
    "\n",
    "It is always non-negative since each term in the variance sum is squared and therefore the result is either positive or zero."
   ]
  },
  {
   "cell_type": "markdown",
   "id": "0b62cf5c",
   "metadata": {},
   "source": [
    "<h2 style=\"color:Indigo;\">3.Standard Deviation</h2>\n",
    "\n",
    "# <p style='text-align:center'>$\\sqrt{\\frac{1}{N-1} \\sum_{i=1}^N (x_i - \\overline{x})^2} $</p>\n",
    "\n",
    "Standard deviation is the spread of a group of numbers from the mean."
   ]
  },
  {
   "cell_type": "code",
   "execution_count": null,
   "id": "1827450a",
   "metadata": {},
   "outputs": [],
   "source": [
    "np.sqrt(sum(deviation)/len(Y)-1)"
   ]
  },
  {
   "cell_type": "code",
   "execution_count": null,
   "id": "29a0cecc",
   "metadata": {},
   "outputs": [],
   "source": [
    "Y.std()"
   ]
  },
  {
   "cell_type": "markdown",
   "id": "bf8bf784",
   "metadata": {},
   "source": [
    "<h2 style=\"color:Indigo;\">4. Box and Whisker Plot</h2>"
   ]
  },
  {
   "cell_type": "code",
   "execution_count": null,
   "id": "8581c420",
   "metadata": {},
   "outputs": [],
   "source": [
    "box=plt.boxplot(Y)\n",
    "\n",
    "\n",
    "val={}\n",
    "plt.figure(figsize=(20,20))\n",
    "x=1\n",
    "for i in box:\n",
    "    comp=[item.get_ydata() for item in box[i]]\n",
    "    val[i]=comp\n",
    "val"
   ]
  },
  {
   "cell_type": "markdown",
   "id": "aab02b76",
   "metadata": {},
   "source": [
    "<h2 style=\"color:Indigo;\">Transformation</h2>"
   ]
  },
  {
   "cell_type": "markdown",
   "id": "ca594bbb",
   "metadata": {},
   "source": [
    "<h2 style=\"color:Indigo;\">1. Skewness</h2>\n",
    "\n",
    "Skewness refers to a distortion or asymmetry that deviates from the symmetrical bell curve, or normal distribution, in a set of data. If the curve is shifted to the left or to the right, it is said to be skewed.\n",
    "\n",
    "<img src='https://i.imgur.com/6SH4wau.png'>\n",
    "\n",
    "* Less than -1 or greater than 1, then the distribution is highly skewed.\n",
    "* Between -1 and -0.5 or 0.5 and 1, then the distribution is moderately skewed.\n",
    "* Between -0.5 and 0.5, then the distribution is approx. symmetric."
   ]
  },
  {
   "cell_type": "code",
   "execution_count": null,
   "id": "db310bbb",
   "metadata": {},
   "outputs": [],
   "source": [
    "Y.hist()"
   ]
  },
  {
   "cell_type": "code",
   "execution_count": null,
   "id": "d4cb15f2",
   "metadata": {},
   "outputs": [],
   "source": [
    "sns.displot(Y,kde=True)\n",
    "plt.show()"
   ]
  },
  {
   "cell_type": "code",
   "execution_count": null,
   "id": "a2af70d3",
   "metadata": {},
   "outputs": [],
   "source": [
    "Y.skew()"
   ]
  },
  {
   "cell_type": "code",
   "execution_count": null,
   "id": "b44c436b",
   "metadata": {},
   "outputs": [],
   "source": [
    "np.log(Y).hist()\n",
    "(np.log(Y)).skew()"
   ]
  },
  {
   "cell_type": "code",
   "execution_count": null,
   "id": "9c9f23e8",
   "metadata": {},
   "outputs": [],
   "source": [
    "np.log2(Y).hist()\n",
    "np.log2(Y).skew()"
   ]
  },
  {
   "cell_type": "code",
   "execution_count": null,
   "id": "d0d7d271",
   "metadata": {},
   "outputs": [],
   "source": [
    "from scipy.stats import boxcox"
   ]
  },
  {
   "cell_type": "code",
   "execution_count": null,
   "id": "b764cf74",
   "metadata": {},
   "outputs": [],
   "source": [
    "sns.displot(boxcox(Y)[0],kde=True)\n",
    "pd.Series(boxcox(Y)[0]).skew()"
   ]
  },
  {
   "cell_type": "markdown",
   "id": "905beeb9",
   "metadata": {},
   "source": [
    "<h2 style=\"color:Indigo;\">2. Kurtosis</h2>\n",
    "\n",
    "<img src='https://editor.analyticsvidhya.com/uploads/57983kurt1.png' alt='kurt img is supposed to be here if not chage the srcc link'>\n",
    "\n",
    "* Kurtosis tells you the height and sharpness if the central peak.\n",
    "* A normal distribution will have kurtosis value exactly 3. It is called as Mesokurtic.\n",
    "* A distribution with kurtosis <3 is called Platykurtic. Compared to a Normal distribution, the tails are shorter and central peak is lower and broader.\n",
    "* A distribution with kurtosis >3 is called as Leptokurtic, where tails are longer and central peak is taller and sharper."
   ]
  },
  {
   "cell_type": "code",
   "execution_count": null,
   "id": "d147942e",
   "metadata": {},
   "outputs": [],
   "source": [
    "Y.kurt()"
   ]
  },
  {
   "cell_type": "markdown",
   "id": "49ae9c19",
   "metadata": {},
   "source": [
    "<h2 style=\"color:Indigo;\">Encoding</h2>"
   ]
  },
  {
   "cell_type": "markdown",
   "id": "08735a99",
   "metadata": {},
   "source": [
    "<h2 style=\"color:Indigo;\">1. Continuous to Discrete</h2>"
   ]
  },
  {
   "cell_type": "code",
   "execution_count": null,
   "id": "cf166a96",
   "metadata": {},
   "outputs": [],
   "source": [
    "# Binning\n",
    "Y.max()-Y.min()"
   ]
  },
  {
   "cell_type": "code",
   "execution_count": null,
   "id": "25572c9c",
   "metadata": {},
   "outputs": [],
   "source": [
    "bins=[0,3000,5000,8000,50000]\n",
    "ninned=pd.cut(Y,bins=bins,labels=['cheap','moderate','expensive','premium'])\n",
    "ninned.value_counts().plot(kind='bar')\n",
    "plt.show()"
   ]
  },
  {
   "cell_type": "markdown",
   "id": "a5a233e4",
   "metadata": {},
   "source": [
    "<h2 style=\"color:Indigo;\"> 2. Encoding</h2>"
   ]
  },
  {
   "cell_type": "code",
   "execution_count": null,
   "id": "93e11258",
   "metadata": {},
   "outputs": [],
   "source": [
    "# Label Encoding\n",
    "from sklearn.preprocessing import LabelEncoder\n",
    "\n",
    "le=LabelEncoder()\n",
    "Y_enc=le.fit_transform(ninned)\n",
    "Y_enc"
   ]
  },
  {
   "cell_type": "code",
   "execution_count": null,
   "id": "a4749670",
   "metadata": {},
   "outputs": [],
   "source": []
  }
 ],
 "metadata": {
  "kernelspec": {
   "display_name": "Python 3 (ipykernel)",
   "language": "python",
   "name": "python3"
  },
  "language_info": {
   "codemirror_mode": {
    "name": "ipython",
    "version": 3
   },
   "file_extension": ".py",
   "mimetype": "text/x-python",
   "name": "python",
   "nbconvert_exporter": "python",
   "pygments_lexer": "ipython3",
   "version": "3.9.12"
  }
 },
 "nbformat": 4,
 "nbformat_minor": 5
}
