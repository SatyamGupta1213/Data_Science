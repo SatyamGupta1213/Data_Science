{
 "cells": [
  {
   "cell_type": "markdown",
   "id": "879018f5",
   "metadata": {},
   "source": [
    "<h1 style=\"color:yellow;background-color:green;font-size:250%;border:2px solid black;text-align:center;\"> Intro to Pandas</h1>"
   ]
  },
  {
   "cell_type": "markdown",
   "id": "8d3f16e7",
   "metadata": {},
   "source": [
    "When working with tabular data, such as data stored in spreadsheets or databases, pandas is the right tool for you. pandas will help you to explore, clean, and process your data. In pandas, a data table is called a DataFrame"
   ]
  },
  {
   "cell_type": "markdown",
   "id": "e2dafde5",
   "metadata": {},
   "source": [
    "<h1 style = \"font-size:200%;color:\n",
    "DodgerBlue;\"> Load Pandas</h1>"
   ]
  },
  {
   "cell_type": "markdown",
   "id": "2fd12483",
   "metadata": {},
   "source": [
    "\n",
    "To load the pandas package and start working with it, import the package. The community agreed alias for pandas is pd, so loading pandas as pd is assumed standard practice for all of the pandas documentation."
   ]
  },
  {
   "cell_type": "code",
   "execution_count": 23,
   "id": "54bc8c3d",
   "metadata": {},
   "outputs": [],
   "source": [
    "import pandas as pd"
   ]
  },
  {
   "cell_type": "markdown",
   "id": "77372e82",
   "metadata": {},
   "source": [
    "<h1><span style=\"color:#FF0000\">Creating a</span>\n",
    "<span style=\"color:#66CC66\">DataFrame.</span></h1>"
   ]
  },
  {
   "cell_type": "code",
   "execution_count": 24,
   "id": "abf50114",
   "metadata": {},
   "outputs": [
    {
     "data": {
      "text/html": [
       "<div>\n",
       "<style scoped>\n",
       "    .dataframe tbody tr th:only-of-type {\n",
       "        vertical-align: middle;\n",
       "    }\n",
       "\n",
       "    .dataframe tbody tr th {\n",
       "        vertical-align: top;\n",
       "    }\n",
       "\n",
       "    .dataframe thead th {\n",
       "        text-align: right;\n",
       "    }\n",
       "</style>\n",
       "<table border=\"1\" class=\"dataframe\">\n",
       "  <thead>\n",
       "    <tr style=\"text-align: right;\">\n",
       "      <th></th>\n",
       "      <th>Name</th>\n",
       "      <th>Age</th>\n",
       "      <th>Experience</th>\n",
       "    </tr>\n",
       "  </thead>\n",
       "  <tbody>\n",
       "    <tr>\n",
       "      <th>0</th>\n",
       "      <td>Satyam</td>\n",
       "      <td>30</td>\n",
       "      <td>5</td>\n",
       "    </tr>\n",
       "    <tr>\n",
       "      <th>1</th>\n",
       "      <td>Vikas</td>\n",
       "      <td>40</td>\n",
       "      <td>8</td>\n",
       "    </tr>\n",
       "    <tr>\n",
       "      <th>2</th>\n",
       "      <td>Mayuree</td>\n",
       "      <td>50</td>\n",
       "      <td>11</td>\n",
       "    </tr>\n",
       "    <tr>\n",
       "      <th>3</th>\n",
       "      <td>Eshika</td>\n",
       "      <td>60</td>\n",
       "      <td>14</td>\n",
       "    </tr>\n",
       "    <tr>\n",
       "      <th>4</th>\n",
       "      <td>Aakas</td>\n",
       "      <td>70</td>\n",
       "      <td>17</td>\n",
       "    </tr>\n",
       "  </tbody>\n",
       "</table>\n",
       "</div>"
      ],
      "text/plain": [
       "      Name  Age  Experience\n",
       "0   Satyam   30           5\n",
       "1    Vikas   40           8\n",
       "2  Mayuree   50          11\n",
       "3   Eshika   60          14\n",
       "4    Aakas   70          17"
      ]
     },
     "execution_count": 24,
     "metadata": {},
     "output_type": "execute_result"
    }
   ],
   "source": [
    "# Mnemonic name for DataFrame df\n",
    "df = pd.DataFrame({\n",
    "    'Name':['Satyam','Vikas','Mayuree','Eshika','Aakas'],\n",
    "    'Age':[i for i in range(30,80,10)],\n",
    "    'Experience':[i for i in range(5,18,3)]\n",
    "})\n",
    "df"
   ]
  },
  {
   "cell_type": "markdown",
   "id": "d80b2e95",
   "metadata": {},
   "source": [
    "Notice that the inferred dtype is int64 & object."
   ]
  },
  {
   "cell_type": "code",
   "execution_count": 25,
   "id": "22d5299e",
   "metadata": {},
   "outputs": [
    {
     "data": {
      "text/plain": [
       "Name          object\n",
       "Age            int64\n",
       "Experience     int64\n",
       "dtype: object"
      ]
     },
     "execution_count": 25,
     "metadata": {},
     "output_type": "execute_result"
    }
   ],
   "source": [
    "df.dtypes  "
   ]
  },
  {
   "cell_type": "markdown",
   "id": "2773f285",
   "metadata": {},
   "source": [
    "To enforce a single dtype:"
   ]
  },
  {
   "cell_type": "code",
   "execution_count": 26,
   "id": "c9ee7cd0",
   "metadata": {},
   "outputs": [
    {
     "data": {
      "text/plain": [
       "Name          object\n",
       "Age           object\n",
       "Experience    object\n",
       "dtype: object"
      ]
     },
     "execution_count": 26,
     "metadata": {},
     "output_type": "execute_result"
    }
   ],
   "source": [
    "import numpy as np\n",
    "df = pd.DataFrame({\n",
    "    'Name':['Satyam','Vikas','Mayuree','Eshika','Aakas'],\n",
    "    'Age':[i for i in range(30,80,10)],\n",
    "    'Experience':[i for i in range(5,18,3)]},dtype=np.str0)\n",
    "df.dtypes"
   ]
  },
  {
   "cell_type": "markdown",
   "id": "6f7f446c",
   "metadata": {},
   "source": [
    "Constructing DataFrame from a dictionary including Series:"
   ]
  },
  {
   "cell_type": "code",
   "execution_count": 27,
   "id": "3d90da09",
   "metadata": {},
   "outputs": [
    {
     "data": {
      "text/html": [
       "<div>\n",
       "<style scoped>\n",
       "    .dataframe tbody tr th:only-of-type {\n",
       "        vertical-align: middle;\n",
       "    }\n",
       "\n",
       "    .dataframe tbody tr th {\n",
       "        vertical-align: top;\n",
       "    }\n",
       "\n",
       "    .dataframe thead th {\n",
       "        text-align: right;\n",
       "    }\n",
       "</style>\n",
       "<table border=\"1\" class=\"dataframe\">\n",
       "  <thead>\n",
       "    <tr style=\"text-align: right;\">\n",
       "      <th></th>\n",
       "      <th>Name</th>\n",
       "      <th>Age</th>\n",
       "      <th>Experience</th>\n",
       "    </tr>\n",
       "  </thead>\n",
       "  <tbody>\n",
       "    <tr>\n",
       "      <th>0</th>\n",
       "      <td>Satyam</td>\n",
       "      <td>30</td>\n",
       "      <td>5</td>\n",
       "    </tr>\n",
       "    <tr>\n",
       "      <th>1</th>\n",
       "      <td>Vikas</td>\n",
       "      <td>40</td>\n",
       "      <td>8</td>\n",
       "    </tr>\n",
       "    <tr>\n",
       "      <th>2</th>\n",
       "      <td>Mayuree</td>\n",
       "      <td>50</td>\n",
       "      <td>11</td>\n",
       "    </tr>\n",
       "    <tr>\n",
       "      <th>3</th>\n",
       "      <td>Eshika</td>\n",
       "      <td>60</td>\n",
       "      <td>14</td>\n",
       "    </tr>\n",
       "    <tr>\n",
       "      <th>4</th>\n",
       "      <td>Aakas</td>\n",
       "      <td>70</td>\n",
       "      <td>17</td>\n",
       "    </tr>\n",
       "  </tbody>\n",
       "</table>\n",
       "</div>"
      ],
      "text/plain": [
       "      Name  Age  Experience\n",
       "0   Satyam   30           5\n",
       "1    Vikas   40           8\n",
       "2  Mayuree   50          11\n",
       "3   Eshika   60          14\n",
       "4    Aakas   70          17"
      ]
     },
     "execution_count": 27,
     "metadata": {},
     "output_type": "execute_result"
    }
   ],
   "source": [
    "df = pd.DataFrame({\n",
    "    'Name':['Satyam','Vikas','Mayuree','Eshika','Aakas'],\n",
    "    'Age':[i for i in range(30,80,10)],\n",
    "    'Experience':pd.Series([i for i in range(5,18,3)])\n",
    "})\n",
    "df"
   ]
  },
  {
   "cell_type": "markdown",
   "id": "e800a35a",
   "metadata": {},
   "source": [
    "Constructing DataFrame from numpy ndarray:"
   ]
  },
  {
   "cell_type": "code",
   "execution_count": 28,
   "id": "da84e1b4",
   "metadata": {},
   "outputs": [
    {
     "data": {
      "text/html": [
       "<div>\n",
       "<style scoped>\n",
       "    .dataframe tbody tr th:only-of-type {\n",
       "        vertical-align: middle;\n",
       "    }\n",
       "\n",
       "    .dataframe tbody tr th {\n",
       "        vertical-align: top;\n",
       "    }\n",
       "\n",
       "    .dataframe thead th {\n",
       "        text-align: right;\n",
       "    }\n",
       "</style>\n",
       "<table border=\"1\" class=\"dataframe\">\n",
       "  <thead>\n",
       "    <tr style=\"text-align: right;\">\n",
       "      <th></th>\n",
       "      <th>languishment</th>\n",
       "      <th>dividendus</th>\n",
       "      <th>omophagies</th>\n",
       "      <th>lida</th>\n",
       "      <th>venizelist</th>\n",
       "      <th>lippier</th>\n",
       "      <th>buttonhook</th>\n",
       "      <th>noninductive</th>\n",
       "      <th>sigillistic</th>\n",
       "      <th>tonneaus</th>\n",
       "    </tr>\n",
       "  </thead>\n",
       "  <tbody>\n",
       "    <tr>\n",
       "      <th>0</th>\n",
       "      <td>92</td>\n",
       "      <td>883</td>\n",
       "      <td>268</td>\n",
       "      <td>271</td>\n",
       "      <td>565</td>\n",
       "      <td>420</td>\n",
       "      <td>890</td>\n",
       "      <td>506</td>\n",
       "      <td>242</td>\n",
       "      <td>298</td>\n",
       "    </tr>\n",
       "    <tr>\n",
       "      <th>1</th>\n",
       "      <td>804</td>\n",
       "      <td>735</td>\n",
       "      <td>343</td>\n",
       "      <td>672</td>\n",
       "      <td>441</td>\n",
       "      <td>777</td>\n",
       "      <td>657</td>\n",
       "      <td>317</td>\n",
       "      <td>765</td>\n",
       "      <td>867</td>\n",
       "    </tr>\n",
       "    <tr>\n",
       "      <th>2</th>\n",
       "      <td>506</td>\n",
       "      <td>54</td>\n",
       "      <td>123</td>\n",
       "      <td>356</td>\n",
       "      <td>12</td>\n",
       "      <td>719</td>\n",
       "      <td>150</td>\n",
       "      <td>268</td>\n",
       "      <td>13</td>\n",
       "      <td>614</td>\n",
       "    </tr>\n",
       "    <tr>\n",
       "      <th>3</th>\n",
       "      <td>989</td>\n",
       "      <td>424</td>\n",
       "      <td>293</td>\n",
       "      <td>412</td>\n",
       "      <td>760</td>\n",
       "      <td>567</td>\n",
       "      <td>678</td>\n",
       "      <td>767</td>\n",
       "      <td>896</td>\n",
       "      <td>596</td>\n",
       "    </tr>\n",
       "    <tr>\n",
       "      <th>4</th>\n",
       "      <td>285</td>\n",
       "      <td>614</td>\n",
       "      <td>516</td>\n",
       "      <td>79</td>\n",
       "      <td>289</td>\n",
       "      <td>216</td>\n",
       "      <td>947</td>\n",
       "      <td>16</td>\n",
       "      <td>762</td>\n",
       "      <td>705</td>\n",
       "    </tr>\n",
       "    <tr>\n",
       "      <th>5</th>\n",
       "      <td>768</td>\n",
       "      <td>771</td>\n",
       "      <td>368</td>\n",
       "      <td>98</td>\n",
       "      <td>993</td>\n",
       "      <td>162</td>\n",
       "      <td>844</td>\n",
       "      <td>867</td>\n",
       "      <td>900</td>\n",
       "      <td>994</td>\n",
       "    </tr>\n",
       "    <tr>\n",
       "      <th>6</th>\n",
       "      <td>379</td>\n",
       "      <td>593</td>\n",
       "      <td>441</td>\n",
       "      <td>932</td>\n",
       "      <td>419</td>\n",
       "      <td>917</td>\n",
       "      <td>86</td>\n",
       "      <td>392</td>\n",
       "      <td>626</td>\n",
       "      <td>765</td>\n",
       "    </tr>\n",
       "    <tr>\n",
       "      <th>7</th>\n",
       "      <td>546</td>\n",
       "      <td>817</td>\n",
       "      <td>88</td>\n",
       "      <td>838</td>\n",
       "      <td>55</td>\n",
       "      <td>457</td>\n",
       "      <td>596</td>\n",
       "      <td>605</td>\n",
       "      <td>302</td>\n",
       "      <td>467</td>\n",
       "    </tr>\n",
       "    <tr>\n",
       "      <th>8</th>\n",
       "      <td>421</td>\n",
       "      <td>682</td>\n",
       "      <td>352</td>\n",
       "      <td>845</td>\n",
       "      <td>963</td>\n",
       "      <td>545</td>\n",
       "      <td>536</td>\n",
       "      <td>716</td>\n",
       "      <td>844</td>\n",
       "      <td>56</td>\n",
       "    </tr>\n",
       "    <tr>\n",
       "      <th>9</th>\n",
       "      <td>284</td>\n",
       "      <td>618</td>\n",
       "      <td>684</td>\n",
       "      <td>665</td>\n",
       "      <td>672</td>\n",
       "      <td>897</td>\n",
       "      <td>181</td>\n",
       "      <td>642</td>\n",
       "      <td>907</td>\n",
       "      <td>590</td>\n",
       "    </tr>\n",
       "  </tbody>\n",
       "</table>\n",
       "</div>"
      ],
      "text/plain": [
       "   languishment  dividendus  omophagies  lida  venizelist  lippier  \\\n",
       "0            92         883         268   271         565      420   \n",
       "1           804         735         343   672         441      777   \n",
       "2           506          54         123   356          12      719   \n",
       "3           989         424         293   412         760      567   \n",
       "4           285         614         516    79         289      216   \n",
       "5           768         771         368    98         993      162   \n",
       "6           379         593         441   932         419      917   \n",
       "7           546         817          88   838          55      457   \n",
       "8           421         682         352   845         963      545   \n",
       "9           284         618         684   665         672      897   \n",
       "\n",
       "   buttonhook  noninductive  sigillistic  tonneaus  \n",
       "0         890           506          242       298  \n",
       "1         657           317          765       867  \n",
       "2         150           268           13       614  \n",
       "3         678           767          896       596  \n",
       "4         947            16          762       705  \n",
       "5         844           867          900       994  \n",
       "6          86           392          626       765  \n",
       "7         596           605          302       467  \n",
       "8         536           716          844        56  \n",
       "9         181           642          907       590  "
      ]
     },
     "execution_count": 28,
     "metadata": {},
     "output_type": "execute_result"
    }
   ],
   "source": [
    "# Genrate Random column names\n",
    "from random_word import RandomWords\n",
    "r = RandomWords()\n",
    "\n",
    "labels=[r.get_random_word() for i in range(10)]\n",
    "arr=np.random.randint(1,1000,100).reshape(10,10)\n",
    "df=pd.DataFrame(arr,columns=labels)\n",
    "df"
   ]
  },
  {
   "cell_type": "markdown",
   "id": "d386ae5d",
   "metadata": {},
   "source": [
    "<h1 style = \"font-size:200%;color:\n",
    "DodgerBlue;\">Attributes</h1>"
   ]
  },
  {
   "cell_type": "markdown",
   "id": "9f44d294",
   "metadata": {},
   "source": [
    "<h1><span style=\"color:#7E30AA\">𝓓𝓪𝓽𝓪𝓕𝓻𝓪𝓶𝓮.</span>\n",
    "<span style=\"color:#66CC66\">𝓪𝓽</span></h1>"
   ]
  },
  {
   "cell_type": "markdown",
   "id": "7094dcaf",
   "metadata": {},
   "source": [
    "Access a single value for a row/column label pair.\n",
    "\n",
    "Similar to loc, in that both provide label-based lookups. Use at if you only need to get or set a single value in a DataFrame or Series."
   ]
  },
  {
   "cell_type": "code",
   "execution_count": 30,
   "id": "ef0cf5ba",
   "metadata": {},
   "outputs": [
    {
     "data": {
      "text/plain": [
       "593"
      ]
     },
     "execution_count": 30,
     "metadata": {},
     "output_type": "execute_result"
    }
   ],
   "source": [
    "df.at[6,'dividendus']"
   ]
  },
  {
   "cell_type": "markdown",
   "id": "f3d21153",
   "metadata": {},
   "source": [
    "\n",
    "<h1><span style=\"color:#7E30AA\">𝓓𝓪𝓽𝓪𝓕𝓻𝓪𝓶𝓮.</span>\n",
    "<span style=\"color:#66CC66\">𝓪𝔁𝓮𝓼</span></h1>"
   ]
  },
  {
   "cell_type": "markdown",
   "id": "cb196f48",
   "metadata": {},
   "source": [
    "Return a list representing the axes of the DataFrame.\n",
    "\n",
    "It has the row axis labels and column axis labels as the only members. They are returned in that order."
   ]
  },
  {
   "cell_type": "code",
   "execution_count": null,
   "id": "723ddf7c",
   "metadata": {},
   "outputs": [],
   "source": [
    "df.axes"
   ]
  },
  {
   "cell_type": "markdown",
   "id": "ac6af115",
   "metadata": {},
   "source": [
    "<h1><span style=\"color:#7E30AA\">𝓓𝓪𝓽𝓪𝓕𝓻𝓪𝓶𝓮.</span>\n",
    "<span style=\"color:#66CC66\">𝓬𝓸𝓵𝓾𝓶𝓷𝓼</span></h1>"
   ]
  },
  {
   "cell_type": "markdown",
   "id": "f9f7bc13",
   "metadata": {},
   "source": [
    "The column labels of the DataFrame."
   ]
  },
  {
   "cell_type": "code",
   "execution_count": null,
   "id": "5da03cdf",
   "metadata": {},
   "outputs": [],
   "source": [
    "df.columns"
   ]
  },
  {
   "cell_type": "markdown",
   "id": "91a551be",
   "metadata": {},
   "source": [
    "<h1><span style=\"color:#7E30AA\">𝓓𝓪𝓽𝓪𝓕𝓻𝓪𝓶𝓮.</span>\n",
    "<span style=\"color:#66CC66\">𝓭𝓽𝔂𝓹𝓮𝓼</span></h1>"
   ]
  },
  {
   "cell_type": "markdown",
   "id": "f0b4da3f",
   "metadata": {},
   "source": [
    "Return the dtypes in the DataFrame.\n",
    "\n",
    "This returns a Series with the data type of each column. The result’s index is the original DataFrame’s columns. Columns with mixed types are stored with the object dtype."
   ]
  },
  {
   "cell_type": "code",
   "execution_count": null,
   "id": "b03b8b12",
   "metadata": {},
   "outputs": [],
   "source": [
    "df.dtypes"
   ]
  },
  {
   "cell_type": "markdown",
   "id": "b6a9b1c8",
   "metadata": {},
   "source": [
    "<h1><span style=\"color:#7E30AA\">𝓓𝓪𝓽𝓪𝓕𝓻𝓪𝓶𝓮.</span>\n",
    "<span style=\"color:#66CC66\">𝓮𝓶𝓹𝓽𝔂</span></h1>"
   ]
  },
  {
   "cell_type": "markdown",
   "id": "411068cb",
   "metadata": {},
   "source": [
    "Checks if a Series/DataFrame is completely empty"
   ]
  },
  {
   "cell_type": "code",
   "execution_count": null,
   "id": "d34182f6",
   "metadata": {},
   "outputs": [],
   "source": [
    "df.empty"
   ]
  },
  {
   "cell_type": "markdown",
   "id": "f210fc6e",
   "metadata": {},
   "source": [
    "<h1><span style=\"color:#7E30AA\">𝓓𝓪𝓽𝓪𝓕𝓻𝓪𝓶𝓮.</span>\n",
    "<span style=\"color:#66CC66\">𝓲𝓪𝓽</span></h1>"
   ]
  },
  {
   "cell_type": "markdown",
   "id": "82136dc6",
   "metadata": {},
   "source": [
    "Access a single value for a row/column pair by integer position.\n",
    "\n",
    "Similar to iloc, in that both provide integer-based lookups. Use iat if you only need to get or set a single value in a DataFrame or Series"
   ]
  },
  {
   "cell_type": "code",
   "execution_count": null,
   "id": "6e15d298",
   "metadata": {},
   "outputs": [],
   "source": [
    "df.iat[0,0]"
   ]
  },
  {
   "cell_type": "markdown",
   "id": "11ef71a0",
   "metadata": {},
   "source": [
    "<h1><span style=\"color:#7E30AA\">𝓓𝓪𝓽𝓪𝓕𝓻𝓪𝓶𝓮.</span>\n",
    "<span style=\"color:#66CC66\">𝓲𝓵𝓸𝓬</span></h1>"
   ]
  },
  {
   "cell_type": "markdown",
   "id": "ebc5a08b",
   "metadata": {},
   "source": [
    "Purely integer-location based indexing for selection by position.\n",
    "\n",
    ".iloc[] is primarily integer position based (from 0 to length-1 of the axis), but may also be used with a boolean array.\n",
    "\n",
    "Allowed inputs are:\n",
    "\n",
    "An integer, e.g. 5.\n",
    "\n",
    "A list or array of integers, e.g. [4, 3, 0].\n",
    "\n",
    "A slice object with ints, e.g. 1:7.\n",
    "\n",
    "A boolean array.\n",
    "\n",
    "A callable function with one argument (the calling Series or DataFrame) and that returns valid output for indexing (one of the above). This is useful in method chains, when you don’t have a reference to the calling object, but would like to base your selection on some value.\n",
    "\n",
    ".iloc will raise IndexError if a requested indexer is out-of-bounds, except slice indexers which allow out-of-bounds indexing (this conforms with python/numpy slice semantics)."
   ]
  },
  {
   "cell_type": "code",
   "execution_count": null,
   "id": "afdde969",
   "metadata": {},
   "outputs": [],
   "source": [
    "df.iloc[0:,0:]"
   ]
  },
  {
   "cell_type": "markdown",
   "id": "b6858c20",
   "metadata": {},
   "source": [
    "<h1><span style=\"color:#7E30AA\">𝓓𝓪𝓽𝓪𝓕𝓻𝓪𝓶𝓮.</span>\n",
    "<span style=\"color:#66CC66\">𝓲ndex</span></h1>"
   ]
  },
  {
   "cell_type": "code",
   "execution_count": null,
   "id": "5cf578f9",
   "metadata": {},
   "outputs": [],
   "source": [
    "df.index"
   ]
  },
  {
   "cell_type": "markdown",
   "id": "673e9d87",
   "metadata": {},
   "source": [
    "<h1><span style=\"color:#7E30AA\">𝓓𝓪𝓽𝓪𝓕𝓻𝓪𝓶𝓮.</span>\n",
    "<span style=\"color:#66CC66\">𝓵𝓸𝓬</span></h1>"
   ]
  },
  {
   "cell_type": "markdown",
   "id": "78149bd0",
   "metadata": {},
   "source": [
    "Access a group of rows and columns by label(s) or a boolean array.\n",
    "\n",
    ".loc[] is primarily label based, but may also be used with a boolean array.\n",
    "\n",
    "Allowed inputs are:\n",
    "\n",
    "A single label, e.g. 5 or 'a', (note that 5 is interpreted as a label of the index, and never as an integer position along the index).\n",
    "\n",
    "A list or array of labels, e.g. ['a', 'b', 'c'].\n",
    "\n",
    "A slice object with labels, e.g. 'a':'f'.\n",
    "\n",
    "Warning\n",
    "\n",
    "Note that contrary to usual python slices, both the start and the stop are included\n",
    "\n",
    "A boolean array of the same length as the axis being sliced, e.g. [True, False, True].\n",
    "\n",
    "An alignable boolean Series. The index of the key will be aligned before masking.\n",
    "\n",
    "An alignable Index. The Index of the returned selection will be the input.\n",
    "\n",
    "A callable function with one argument (the calling Series or DataFrame) and that returns valid output for indexing (one of the above)"
   ]
  },
  {
   "cell_type": "code",
   "execution_count": null,
   "id": "73838783",
   "metadata": {},
   "outputs": [],
   "source": [
    "df.loc[5]"
   ]
  },
  {
   "cell_type": "markdown",
   "id": "ee212453",
   "metadata": {},
   "source": [
    "<h1><span style=\"color:#7E30AA\">𝓓𝓪𝓽𝓪𝓕𝓻𝓪𝓶𝓮.</span>\n",
    "<span style=\"color:#66CC66\">𝓷𝓭𝓲𝓶</span></h1>"
   ]
  },
  {
   "cell_type": "markdown",
   "id": "f846756b",
   "metadata": {},
   "source": [
    "Return an int representing the number of axes / array dimensions.\n",
    "\n",
    "Return 1 if Series. Otherwise return 2 if DataFrame."
   ]
  },
  {
   "cell_type": "code",
   "execution_count": null,
   "id": "130e46ef",
   "metadata": {},
   "outputs": [],
   "source": [
    "df.ndim"
   ]
  },
  {
   "cell_type": "markdown",
   "id": "51d178e6",
   "metadata": {},
   "source": [
    "<h1><span style=\"color:#7E30AA\">𝓓𝓪𝓽𝓪𝓕𝓻𝓪𝓶𝓮.</span>\n",
    "<span style=\"color:#66CC66\">𝓼𝓱𝓪𝓹𝓮</span></h1>"
   ]
  },
  {
   "cell_type": "markdown",
   "id": "efd17742",
   "metadata": {},
   "source": [
    "Return a tuple representing the dimensionality of the DataFrame."
   ]
  },
  {
   "cell_type": "code",
   "execution_count": null,
   "id": "cf8a2ffb",
   "metadata": {},
   "outputs": [],
   "source": [
    "df.shape"
   ]
  },
  {
   "cell_type": "markdown",
   "id": "482ccdb9",
   "metadata": {},
   "source": [
    "<h1><span style=\"color:#7E30AA\">𝓓𝓪𝓽𝓪𝓕𝓻𝓪𝓶𝓮.</span>\n",
    "<span style=\"color:#66CC66\">𝓼𝓲𝔃𝓮</span></h1>"
   ]
  },
  {
   "cell_type": "markdown",
   "id": "8fd1fb59",
   "metadata": {},
   "source": [
    "Return an int representing the number of elements in this object.\n",
    "\n",
    "Return the number of rows if Series. Otherwise return the number of rows times number of columns if DataFrame."
   ]
  },
  {
   "cell_type": "code",
   "execution_count": null,
   "id": "76ffbeae",
   "metadata": {},
   "outputs": [],
   "source": [
    "df.size"
   ]
  },
  {
   "cell_type": "markdown",
   "id": "76c5d55d",
   "metadata": {},
   "source": [
    "<h1><span style=\"color:#7E30AA\">𝓓𝓪𝓽𝓪𝓕𝓻𝓪𝓶𝓮.</span>\n",
    "<span style=\"color:#66CC66\">𝓿𝓪𝓵𝓾𝓮𝓼</span></h1>"
   ]
  },
  {
   "cell_type": "markdown",
   "id": "7f12f287",
   "metadata": {},
   "source": [
    "Return a Numpy representation of the DataFrame."
   ]
  },
  {
   "cell_type": "code",
   "execution_count": null,
   "id": "62df3a98",
   "metadata": {},
   "outputs": [],
   "source": [
    "df.values"
   ]
  },
  {
   "cell_type": "markdown",
   "id": "ace8398b",
   "metadata": {},
   "source": [
    "<h1><span style=\"color:#7E30AA\">Read and Write</span>\n",
    "<span style=\"color:#66CC66\">Tabular data</span></h1>"
   ]
  },
  {
   "cell_type": "markdown",
   "id": "2423982c",
   "metadata": {},
   "source": [
    "pandas supports the integration with many file formats or data sources out of the box (csv, excel, sql, json, parquet,…). Importing data from each of these data sources is provided by function with the prefix read_*. Similarly, the to_* methods are used to store data."
   ]
  },
  {
   "cell_type": "code",
   "execution_count": null,
   "id": "3af7dae9",
   "metadata": {},
   "outputs": [],
   "source": []
  }
 ],
 "metadata": {
  "kernelspec": {
   "display_name": "Python 3 (ipykernel)",
   "language": "python",
   "name": "python3"
  },
  "language_info": {
   "codemirror_mode": {
    "name": "ipython",
    "version": 3
   },
   "file_extension": ".py",
   "mimetype": "text/x-python",
   "name": "python",
   "nbconvert_exporter": "python",
   "pygments_lexer": "ipython3",
   "version": "3.9.12"
  }
 },
 "nbformat": 4,
 "nbformat_minor": 5
}
